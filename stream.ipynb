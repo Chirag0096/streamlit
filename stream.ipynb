{
 "cells": [
  {
   "cell_type": "code",
   "execution_count": 1,
   "metadata": {},
   "outputs": [
    {
     "name": "stdout",
     "output_type": "stream",
     "text": [
      "Requirement already satisfied: streamlit in a:\\lawgpt\\ui\\gui\\lib\\site-packages (1.30.0)\n",
      "Requirement already satisfied: cachetools<6,>=4.0 in a:\\lawgpt\\ui\\gui\\lib\\site-packages (from streamlit) (5.3.2)\n",
      "Requirement already satisfied: tzlocal<6,>=1.1 in a:\\lawgpt\\ui\\gui\\lib\\site-packages (from streamlit) (5.2)\n",
      "Requirement already satisfied: gitpython!=3.1.19,<4,>=3.0.7 in a:\\lawgpt\\ui\\gui\\lib\\site-packages (from streamlit) (3.1.41)\n",
      "Requirement already satisfied: altair<6,>=4.0 in a:\\lawgpt\\ui\\gui\\lib\\site-packages (from streamlit) (5.2.0)\n",
      "Requirement already satisfied: requests<3,>=2.27 in a:\\lawgpt\\ui\\gui\\lib\\site-packages (from streamlit) (2.31.0)\n",
      "Requirement already satisfied: importlib-metadata<8,>=1.4 in a:\\lawgpt\\ui\\gui\\lib\\site-packages (from streamlit) (7.0.1)\n",
      "Requirement already satisfied: protobuf<5,>=3.20 in a:\\lawgpt\\ui\\gui\\lib\\site-packages (from streamlit) (4.25.2)\n",
      "Requirement already satisfied: typing-extensions<5,>=4.3.0 in a:\\lawgpt\\ui\\gui\\lib\\site-packages (from streamlit) (4.9.0)\n",
      "Requirement already satisfied: pandas<3,>=1.3.0 in a:\\lawgpt\\ui\\gui\\lib\\site-packages (from streamlit) (2.2.0)\n",
      "Requirement already satisfied: click<9,>=7.0 in a:\\lawgpt\\ui\\gui\\lib\\site-packages (from streamlit) (8.1.7)\n",
      "Requirement already satisfied: python-dateutil<3,>=2.7.3 in a:\\lawgpt\\ui\\gui\\lib\\site-packages (from streamlit) (2.8.2)\n",
      "Requirement already satisfied: validators<1,>=0.2 in a:\\lawgpt\\ui\\gui\\lib\\site-packages (from streamlit) (0.22.0)\n",
      "Requirement already satisfied: pyarrow>=6.0 in a:\\lawgpt\\ui\\gui\\lib\\site-packages (from streamlit) (15.0.0)\n",
      "Requirement already satisfied: blinker<2,>=1.0.0 in a:\\lawgpt\\ui\\gui\\lib\\site-packages (from streamlit) (1.7.0)\n",
      "Requirement already satisfied: tenacity<9,>=8.1.0 in a:\\lawgpt\\ui\\gui\\lib\\site-packages (from streamlit) (8.2.3)\n",
      "Requirement already satisfied: tornado<7,>=6.0.3 in a:\\lawgpt\\ui\\gui\\lib\\site-packages (from streamlit) (6.4)\n",
      "Requirement already satisfied: rich<14,>=10.14.0 in a:\\lawgpt\\ui\\gui\\lib\\site-packages (from streamlit) (13.7.0)\n",
      "Requirement already satisfied: pydeck<1,>=0.8.0b4 in a:\\lawgpt\\ui\\gui\\lib\\site-packages (from streamlit) (0.8.1b0)\n",
      "Requirement already satisfied: toml<2,>=0.10.1 in a:\\lawgpt\\ui\\gui\\lib\\site-packages (from streamlit) (0.10.2)\n",
      "Requirement already satisfied: watchdog>=2.1.5 in a:\\lawgpt\\ui\\gui\\lib\\site-packages (from streamlit) (3.0.0)\n",
      "Requirement already satisfied: numpy<2,>=1.19.3 in a:\\lawgpt\\ui\\gui\\lib\\site-packages (from streamlit) (1.26.3)\n",
      "Requirement already satisfied: pillow<11,>=7.1.0 in a:\\lawgpt\\ui\\gui\\lib\\site-packages (from streamlit) (10.2.0)\n",
      "Requirement already satisfied: packaging<24,>=16.8 in a:\\lawgpt\\ui\\gui\\lib\\site-packages (from streamlit) (23.2)\n",
      "Requirement already satisfied: jinja2 in a:\\lawgpt\\ui\\gui\\lib\\site-packages (from altair<6,>=4.0->streamlit) (3.1.3)\n",
      "Requirement already satisfied: toolz in a:\\lawgpt\\ui\\gui\\lib\\site-packages (from altair<6,>=4.0->streamlit) (0.12.1)\n",
      "Requirement already satisfied: jsonschema>=3.0 in a:\\lawgpt\\ui\\gui\\lib\\site-packages (from altair<6,>=4.0->streamlit) (4.21.1)\n",
      "Requirement already satisfied: colorama in a:\\lawgpt\\ui\\gui\\lib\\site-packages (from click<9,>=7.0->streamlit) (0.4.6)\n",
      "Requirement already satisfied: gitdb<5,>=4.0.1 in a:\\lawgpt\\ui\\gui\\lib\\site-packages (from gitpython!=3.1.19,<4,>=3.0.7->streamlit) (4.0.11)\n",
      "Requirement already satisfied: zipp>=0.5 in a:\\lawgpt\\ui\\gui\\lib\\site-packages (from importlib-metadata<8,>=1.4->streamlit) (3.17.0)\n",
      "Requirement already satisfied: pytz>=2020.1 in a:\\lawgpt\\ui\\gui\\lib\\site-packages (from pandas<3,>=1.3.0->streamlit) (2023.4)\n",
      "Requirement already satisfied: tzdata>=2022.7 in a:\\lawgpt\\ui\\gui\\lib\\site-packages (from pandas<3,>=1.3.0->streamlit) (2023.4)\n",
      "Requirement already satisfied: six>=1.5 in a:\\lawgpt\\ui\\gui\\lib\\site-packages (from python-dateutil<3,>=2.7.3->streamlit) (1.16.0)\n",
      "Requirement already satisfied: charset-normalizer<4,>=2 in a:\\lawgpt\\ui\\gui\\lib\\site-packages (from requests<3,>=2.27->streamlit) (3.3.2)\n",
      "Requirement already satisfied: idna<4,>=2.5 in a:\\lawgpt\\ui\\gui\\lib\\site-packages (from requests<3,>=2.27->streamlit) (3.6)\n",
      "Requirement already satisfied: urllib3<3,>=1.21.1 in a:\\lawgpt\\ui\\gui\\lib\\site-packages (from requests<3,>=2.27->streamlit) (2.2.0)\n",
      "Requirement already satisfied: certifi>=2017.4.17 in a:\\lawgpt\\ui\\gui\\lib\\site-packages (from requests<3,>=2.27->streamlit) (2023.11.17)\n",
      "Requirement already satisfied: pygments<3.0.0,>=2.13.0 in a:\\lawgpt\\ui\\gui\\lib\\site-packages (from rich<14,>=10.14.0->streamlit) (2.17.2)\n",
      "Requirement already satisfied: markdown-it-py>=2.2.0 in a:\\lawgpt\\ui\\gui\\lib\\site-packages (from rich<14,>=10.14.0->streamlit) (3.0.0)\n",
      "Requirement already satisfied: smmap<6,>=3.0.1 in a:\\lawgpt\\ui\\gui\\lib\\site-packages (from gitdb<5,>=4.0.1->gitpython!=3.1.19,<4,>=3.0.7->streamlit) (5.0.1)\n",
      "Requirement already satisfied: MarkupSafe>=2.0 in a:\\lawgpt\\ui\\gui\\lib\\site-packages (from jinja2->altair<6,>=4.0->streamlit) (2.1.4)\n",
      "Requirement already satisfied: rpds-py>=0.7.1 in a:\\lawgpt\\ui\\gui\\lib\\site-packages (from jsonschema>=3.0->altair<6,>=4.0->streamlit) (0.17.1)\n",
      "Requirement already satisfied: jsonschema-specifications>=2023.03.6 in a:\\lawgpt\\ui\\gui\\lib\\site-packages (from jsonschema>=3.0->altair<6,>=4.0->streamlit) (2023.12.1)\n",
      "Requirement already satisfied: referencing>=0.28.4 in a:\\lawgpt\\ui\\gui\\lib\\site-packages (from jsonschema>=3.0->altair<6,>=4.0->streamlit) (0.33.0)\n",
      "Requirement already satisfied: attrs>=22.2.0 in a:\\lawgpt\\ui\\gui\\lib\\site-packages (from jsonschema>=3.0->altair<6,>=4.0->streamlit) (23.2.0)\n",
      "Requirement already satisfied: mdurl~=0.1 in a:\\lawgpt\\ui\\gui\\lib\\site-packages (from markdown-it-py>=2.2.0->rich<14,>=10.14.0->streamlit) (0.1.2)\n"
     ]
    },
    {
     "name": "stderr",
     "output_type": "stream",
     "text": [
      "\n",
      "[notice] A new release of pip available: 22.2.1 -> 23.3.2\n",
      "[notice] To update, run: python.exe -m pip install --upgrade pip\n"
     ]
    }
   ],
   "source": [
    "!pip install streamlit\n"
   ]
  },
  {
   "cell_type": "code",
   "execution_count": null,
   "metadata": {},
   "outputs": [],
   "source": [
    "from huggingface_hub import notebook_login\n",
    "notebook_login()"
   ]
  },
  {
   "cell_type": "code",
   "execution_count": null,
   "metadata": {},
   "outputs": [],
   "source": [
    "!pip install -qU transformers datasets trl peft accelerate bitsandbytes auto-gptq optimum"
   ]
  },
  {
   "cell_type": "code",
   "execution_count": null,
   "metadata": {},
   "outputs": [],
   "source": [
    "!playwright install\n",
    "!playwright install-deps\n"
   ]
  },
  {
   "cell_type": "code",
   "execution_count": null,
   "metadata": {},
   "outputs": [],
   "source": [
    "!pip install langchain playwright html2text sentence_transformers faiss-gpu"
   ]
  },
  {
   "cell_type": "code",
   "execution_count": 2,
   "metadata": {},
   "outputs": [
    {
     "name": "stdout",
     "output_type": "stream",
     "text": [
      "Collecting pyttsx3\n",
      "  Using cached pyttsx3-2.90-py3-none-any.whl (39 kB)\n",
      "Collecting SpeechRecognition\n",
      "  Downloading SpeechRecognition-3.10.1-py2.py3-none-any.whl (32.8 MB)\n",
      "     ---------------------------------------- 32.8/32.8 MB 2.1 MB/s eta 0:00:00\n",
      "Collecting pypiwin32\n",
      "  Using cached pypiwin32-223-py3-none-any.whl (1.7 kB)\n",
      "Collecting comtypes\n",
      "  Downloading comtypes-1.2.1-py2.py3-none-any.whl (184 kB)\n",
      "     -------------------------------------- 184.9/184.9 kB 1.9 MB/s eta 0:00:00\n",
      "Requirement already satisfied: pywin32 in a:\\lawgpt\\ui\\gui\\lib\\site-packages (from pyttsx3) (306)\n",
      "Requirement already satisfied: typing-extensions in a:\\lawgpt\\ui\\gui\\lib\\site-packages (from SpeechRecognition) (4.9.0)\n",
      "Requirement already satisfied: requests>=2.26.0 in a:\\lawgpt\\ui\\gui\\lib\\site-packages (from SpeechRecognition) (2.31.0)\n",
      "Requirement already satisfied: idna<4,>=2.5 in a:\\lawgpt\\ui\\gui\\lib\\site-packages (from requests>=2.26.0->SpeechRecognition) (3.6)\n",
      "Requirement already satisfied: certifi>=2017.4.17 in a:\\lawgpt\\ui\\gui\\lib\\site-packages (from requests>=2.26.0->SpeechRecognition) (2023.11.17)\n",
      "Requirement already satisfied: charset-normalizer<4,>=2 in a:\\lawgpt\\ui\\gui\\lib\\site-packages (from requests>=2.26.0->SpeechRecognition) (3.3.2)\n",
      "Requirement already satisfied: urllib3<3,>=1.21.1 in a:\\lawgpt\\ui\\gui\\lib\\site-packages (from requests>=2.26.0->SpeechRecognition) (2.2.0)\n",
      "Installing collected packages: comtypes, pypiwin32, SpeechRecognition, pyttsx3\n",
      "Successfully installed SpeechRecognition-3.10.1 comtypes-1.2.1 pypiwin32-223 pyttsx3-2.90\n"
     ]
    },
    {
     "name": "stderr",
     "output_type": "stream",
     "text": [
      "\n",
      "[notice] A new release of pip available: 22.2.1 -> 23.3.2\n",
      "[notice] To update, run: python.exe -m pip install --upgrade pip\n"
     ]
    }
   ],
   "source": [
    "\n",
    "!pip install pyttsx3 SpeechRecognition"
   ]
  },
  {
   "cell_type": "code",
   "execution_count": 1,
   "metadata": {},
   "outputs": [],
   "source": [
    "!streamlit run important.py"
   ]
  },
  {
   "cell_type": "code",
   "execution_count": 5,
   "metadata": {},
   "outputs": [
    {
     "name": "stdout",
     "output_type": "stream",
     "text": [
      "Collecting PyAudio\n",
      "  Downloading PyAudio-0.2.14-cp310-cp310-win_amd64.whl (164 kB)\n",
      "     ------------------------------------ 164.1/164.1 kB 517.9 kB/s eta 0:00:00\n",
      "Installing collected packages: PyAudio\n",
      "Successfully installed PyAudio-0.2.14\n"
     ]
    },
    {
     "name": "stderr",
     "output_type": "stream",
     "text": [
      "\n",
      "[notice] A new release of pip available: 22.2.1 -> 23.3.2\n",
      "[notice] To update, run: python.exe -m pip install --upgrade pip\n"
     ]
    }
   ],
   "source": [
    "!pip install PyAudio"
   ]
  },
  {
   "cell_type": "code",
   "execution_count": 2,
   "metadata": {},
   "outputs": [
    {
     "name": "stdout",
     "output_type": "stream",
     "text": [
      "Requirement already satisfied: streamlit in a:\\lawgpt\\ui\\gui\\lib\\site-packages (1.30.0)\n",
      "Requirement already satisfied: protobuf<5,>=3.20 in a:\\lawgpt\\ui\\gui\\lib\\site-packages (from streamlit) (4.25.2)\n",
      "Requirement already satisfied: watchdog>=2.1.5 in a:\\lawgpt\\ui\\gui\\lib\\site-packages (from streamlit) (3.0.0)\n",
      "Requirement already satisfied: tornado<7,>=6.0.3 in a:\\lawgpt\\ui\\gui\\lib\\site-packages (from streamlit) (6.4)\n",
      "Requirement already satisfied: tenacity<9,>=8.1.0 in a:\\lawgpt\\ui\\gui\\lib\\site-packages (from streamlit) (8.2.3)\n",
      "Requirement already satisfied: typing-extensions<5,>=4.3.0 in a:\\lawgpt\\ui\\gui\\lib\\site-packages (from streamlit) (4.9.0)\n",
      "Requirement already satisfied: python-dateutil<3,>=2.7.3 in a:\\lawgpt\\ui\\gui\\lib\\site-packages (from streamlit) (2.8.2)\n",
      "Requirement already satisfied: click<9,>=7.0 in a:\\lawgpt\\ui\\gui\\lib\\site-packages (from streamlit) (8.1.7)\n",
      "Requirement already satisfied: rich<14,>=10.14.0 in a:\\lawgpt\\ui\\gui\\lib\\site-packages (from streamlit) (13.7.0)\n",
      "Requirement already satisfied: gitpython!=3.1.19,<4,>=3.0.7 in a:\\lawgpt\\ui\\gui\\lib\\site-packages (from streamlit) (3.1.41)\n",
      "Requirement already satisfied: pydeck<1,>=0.8.0b4 in a:\\lawgpt\\ui\\gui\\lib\\site-packages (from streamlit) (0.8.1b0)\n",
      "Requirement already satisfied: altair<6,>=4.0 in a:\\lawgpt\\ui\\gui\\lib\\site-packages (from streamlit) (5.2.0)\n",
      "Requirement already satisfied: pillow<11,>=7.1.0 in a:\\lawgpt\\ui\\gui\\lib\\site-packages (from streamlit) (10.2.0)\n",
      "Requirement already satisfied: validators<1,>=0.2 in a:\\lawgpt\\ui\\gui\\lib\\site-packages (from streamlit) (0.22.0)\n",
      "Requirement already satisfied: cachetools<6,>=4.0 in a:\\lawgpt\\ui\\gui\\lib\\site-packages (from streamlit) (5.3.2)\n",
      "Requirement already satisfied: packaging<24,>=16.8 in a:\\lawgpt\\ui\\gui\\lib\\site-packages (from streamlit) (23.2)\n",
      "Requirement already satisfied: requests<3,>=2.27 in a:\\lawgpt\\ui\\gui\\lib\\site-packages (from streamlit) (2.31.0)\n",
      "Requirement already satisfied: toml<2,>=0.10.1 in a:\\lawgpt\\ui\\gui\\lib\\site-packages (from streamlit) (0.10.2)\n",
      "Requirement already satisfied: blinker<2,>=1.0.0 in a:\\lawgpt\\ui\\gui\\lib\\site-packages (from streamlit) (1.7.0)\n",
      "Requirement already satisfied: importlib-metadata<8,>=1.4 in a:\\lawgpt\\ui\\gui\\lib\\site-packages (from streamlit) (7.0.1)\n",
      "Requirement already satisfied: pandas<3,>=1.3.0 in a:\\lawgpt\\ui\\gui\\lib\\site-packages (from streamlit) (2.2.0)\n",
      "Requirement already satisfied: numpy<2,>=1.19.3 in a:\\lawgpt\\ui\\gui\\lib\\site-packages (from streamlit) (1.26.3)\n",
      "Requirement already satisfied: tzlocal<6,>=1.1 in a:\\lawgpt\\ui\\gui\\lib\\site-packages (from streamlit) (5.2)\n",
      "Requirement already satisfied: pyarrow>=6.0 in a:\\lawgpt\\ui\\gui\\lib\\site-packages (from streamlit) (15.0.0)\n",
      "Requirement already satisfied: jsonschema>=3.0 in a:\\lawgpt\\ui\\gui\\lib\\site-packages (from altair<6,>=4.0->streamlit) (4.21.1)\n",
      "Requirement already satisfied: jinja2 in a:\\lawgpt\\ui\\gui\\lib\\site-packages (from altair<6,>=4.0->streamlit) (3.1.3)\n",
      "Requirement already satisfied: toolz in a:\\lawgpt\\ui\\gui\\lib\\site-packages (from altair<6,>=4.0->streamlit) (0.12.1)\n",
      "Requirement already satisfied: colorama in a:\\lawgpt\\ui\\gui\\lib\\site-packages (from click<9,>=7.0->streamlit) (0.4.6)\n",
      "Requirement already satisfied: gitdb<5,>=4.0.1 in a:\\lawgpt\\ui\\gui\\lib\\site-packages (from gitpython!=3.1.19,<4,>=3.0.7->streamlit) (4.0.11)\n",
      "Requirement already satisfied: zipp>=0.5 in a:\\lawgpt\\ui\\gui\\lib\\site-packages (from importlib-metadata<8,>=1.4->streamlit) (3.17.0)\n",
      "Requirement already satisfied: tzdata>=2022.7 in a:\\lawgpt\\ui\\gui\\lib\\site-packages (from pandas<3,>=1.3.0->streamlit) (2023.4)\n",
      "Requirement already satisfied: pytz>=2020.1 in a:\\lawgpt\\ui\\gui\\lib\\site-packages (from pandas<3,>=1.3.0->streamlit) (2023.4)\n",
      "Requirement already satisfied: six>=1.5 in a:\\lawgpt\\ui\\gui\\lib\\site-packages (from python-dateutil<3,>=2.7.3->streamlit) (1.16.0)\n",
      "Requirement already satisfied: idna<4,>=2.5 in a:\\lawgpt\\ui\\gui\\lib\\site-packages (from requests<3,>=2.27->streamlit) (3.6)\n",
      "Requirement already satisfied: certifi>=2017.4.17 in a:\\lawgpt\\ui\\gui\\lib\\site-packages (from requests<3,>=2.27->streamlit) (2023.11.17)\n",
      "Requirement already satisfied: charset-normalizer<4,>=2 in a:\\lawgpt\\ui\\gui\\lib\\site-packages (from requests<3,>=2.27->streamlit) (3.3.2)\n",
      "Requirement already satisfied: urllib3<3,>=1.21.1 in a:\\lawgpt\\ui\\gui\\lib\\site-packages (from requests<3,>=2.27->streamlit) (2.2.0)\n",
      "Requirement already satisfied: pygments<3.0.0,>=2.13.0 in a:\\lawgpt\\ui\\gui\\lib\\site-packages (from rich<14,>=10.14.0->streamlit) (2.17.2)\n",
      "Requirement already satisfied: markdown-it-py>=2.2.0 in a:\\lawgpt\\ui\\gui\\lib\\site-packages (from rich<14,>=10.14.0->streamlit) (3.0.0)\n",
      "Requirement already satisfied: smmap<6,>=3.0.1 in a:\\lawgpt\\ui\\gui\\lib\\site-packages (from gitdb<5,>=4.0.1->gitpython!=3.1.19,<4,>=3.0.7->streamlit) (5.0.1)\n",
      "Requirement already satisfied: MarkupSafe>=2.0 in a:\\lawgpt\\ui\\gui\\lib\\site-packages (from jinja2->altair<6,>=4.0->streamlit) (2.1.4)\n",
      "Requirement already satisfied: rpds-py>=0.7.1 in a:\\lawgpt\\ui\\gui\\lib\\site-packages (from jsonschema>=3.0->altair<6,>=4.0->streamlit) (0.17.1)\n",
      "Requirement already satisfied: referencing>=0.28.4 in a:\\lawgpt\\ui\\gui\\lib\\site-packages (from jsonschema>=3.0->altair<6,>=4.0->streamlit) (0.33.0)\n",
      "Requirement already satisfied: jsonschema-specifications>=2023.03.6 in a:\\lawgpt\\ui\\gui\\lib\\site-packages (from jsonschema>=3.0->altair<6,>=4.0->streamlit) (2023.12.1)\n",
      "Requirement already satisfied: attrs>=22.2.0 in a:\\lawgpt\\ui\\gui\\lib\\site-packages (from jsonschema>=3.0->altair<6,>=4.0->streamlit) (23.2.0)\n",
      "Requirement already satisfied: mdurl~=0.1 in a:\\lawgpt\\ui\\gui\\lib\\site-packages (from markdown-it-py>=2.2.0->rich<14,>=10.14.0->streamlit) (0.1.2)\n",
      "Note: you may need to restart the kernel to use updated packages.\n"
     ]
    },
    {
     "name": "stderr",
     "output_type": "stream",
     "text": [
      "\n",
      "[notice] A new release of pip available: 22.2.1 -> 23.3.2\n",
      "[notice] To update, run: python.exe -m pip install --upgrade pip\n"
     ]
    }
   ],
   "source": [
    "pip install --upgrade streamlit\n"
   ]
  },
  {
   "cell_type": "code",
   "execution_count": null,
   "metadata": {},
   "outputs": [],
   "source": []
  }
 ],
 "metadata": {
  "kernelspec": {
   "display_name": "gui",
   "language": "python",
   "name": "python3"
  },
  "language_info": {
   "codemirror_mode": {
    "name": "ipython",
    "version": 3
   },
   "file_extension": ".py",
   "mimetype": "text/x-python",
   "name": "python",
   "nbconvert_exporter": "python",
   "pygments_lexer": "ipython3",
   "version": "3.10.6"
  }
 },
 "nbformat": 4,
 "nbformat_minor": 2
}
